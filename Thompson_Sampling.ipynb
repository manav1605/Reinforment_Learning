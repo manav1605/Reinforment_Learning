{
  "nbformat": 4,
  "nbformat_minor": 0,
  "metadata": {
    "colab": {
      "provenance": [],
      "authorship_tag": "ABX9TyOo4xjvEm+Qn0ZlEl/acf3T",
      "include_colab_link": true
    },
    "kernelspec": {
      "name": "python3",
      "display_name": "Python 3"
    },
    "language_info": {
      "name": "python"
    }
  },
  "cells": [
    {
      "cell_type": "markdown",
      "metadata": {
        "id": "view-in-github",
        "colab_type": "text"
      },
      "source": [
        "<a href=\"https://colab.research.google.com/github/mrcoding16/Reinforment_Learning/blob/main/Thompson_Sampling.ipynb\" target=\"_parent\"><img src=\"https://colab.research.google.com/assets/colab-badge.svg\" alt=\"Open In Colab\"/></a>"
      ]
    },
    {
      "cell_type": "code",
      "execution_count": null,
      "metadata": {
        "id": "zYv69cW6QU4D"
      },
      "outputs": [],
      "source": [
        "# Initialize parameters for Beta distributions\n",
        "import main\n",
        "alpha = [1] * num_slot_machines  # Number of wins\n",
        "beta = [1] * num_slot_machines  # Number of losses\n",
        "\n",
        "# Number of rounds to play\n",
        "num_rounds = 1000\n",
        "\n",
        "# Thompson Sampling loop\n",
        "for round in range(num_rounds):\n",
        "    # Sample from the Beta distributions for each slot machine\n",
        "    sampled_probs = [random.beta(alpha[i], beta[i]) for i in range(num_slot_machines)]\n",
        "\n",
        "    # Choose the slot machine with the highest sampled value\n",
        "    chosen_machine = sampled_probs.index(max(sampled_probs))\n",
        "\n",
        "    # Simulate pulling the chosen machine and observing the reward\n",
        "    reward = simulate_pull(chosen_machine)\n",
        "\n",
        "    # Update the parameters of the Beta distribution based on the reward\n",
        "    if reward == 1:\n",
        "        alpha[chosen_machine] += 1\n",
        "    else:\n",
        "        beta[chosen_machine] += 1\n",
        "\n",
        "# After the loop, the slot machine with the highest alpha parameter is the \"best\" machine to pull."
      ]
    }
  ]
}