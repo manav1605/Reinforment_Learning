{
  "nbformat": 4,
  "nbformat_minor": 0,
  "metadata": {
    "colab": {
      "provenance": [],
      "authorship_tag": "ABX9TyPJ0L3ljsnjA7HzO4cA8dn5",
      "include_colab_link": true
    },
    "kernelspec": {
      "name": "python3",
      "display_name": "Python 3"
    },
    "language_info": {
      "name": "python"
    }
  },
  "cells": [
    {
      "cell_type": "markdown",
      "metadata": {
        "id": "view-in-github",
        "colab_type": "text"
      },
      "source": [
        "<a href=\"https://colab.research.google.com/github/mrcoding16/Reinforment_Learning/blob/main/Python_brushup.ipynb\" target=\"_parent\"><img src=\"https://colab.research.google.com/assets/colab-badge.svg\" alt=\"Open In Colab\"/></a>"
      ]
    },
    {
      "cell_type": "code",
      "source": [
        "!python --version"
      ],
      "metadata": {
        "colab": {
          "base_uri": "https://localhost:8080/"
        },
        "id": "y4nW6r2GbpdK",
        "outputId": "c39fc003-d6eb-452c-fa5a-83cd2452e68e"
      },
      "execution_count": null,
      "outputs": [
        {
          "output_type": "stream",
          "name": "stdout",
          "text": [
            "Python 3.10.6\n"
          ]
        }
      ]
    },
    {
      "cell_type": "code",
      "source": [
        "x =3\n",
        "print(x)\n",
        "print(x+5)\n",
        "print(x**2)\n",
        "print(type(x))"
      ],
      "metadata": {
        "colab": {
          "base_uri": "https://localhost:8080/"
        },
        "id": "mFDUjyb4dzQI",
        "outputId": "94348a75-70fa-4c70-fbf1-d8530048b997"
      },
      "execution_count": null,
      "outputs": [
        {
          "output_type": "stream",
          "name": "stdout",
          "text": [
            "3\n",
            "8\n",
            "9\n",
            "<class 'int'>\n"
          ]
        }
      ]
    },
    {
      "cell_type": "code",
      "source": [
        "import math\n",
        "print(math.sqrt(x))"
      ],
      "metadata": {
        "colab": {
          "base_uri": "https://localhost:8080/"
        },
        "id": "964w9dHcd_mX",
        "outputId": "764a742b-cbdf-4e01-87de-a03347d57e3a"
      },
      "execution_count": null,
      "outputs": [
        {
          "output_type": "stream",
          "name": "stdout",
          "text": [
            "1.7320508075688772\n"
          ]
        }
      ]
    },
    {
      "cell_type": "code",
      "source": [
        "t=True\n",
        "f=False\n",
        "print(type(t))\n",
        "print(t and f)\n",
        "print(t or f)\n",
        "print(not t)\n",
        "print(t !=f)"
      ],
      "metadata": {
        "colab": {
          "base_uri": "https://localhost:8080/"
        },
        "id": "Q9FHiLKcfj86",
        "outputId": "945c7de4-31c9-47dd-a04e-60f09a1929be"
      },
      "execution_count": null,
      "outputs": [
        {
          "output_type": "stream",
          "name": "stdout",
          "text": [
            "<class 'bool'>\n",
            "False\n",
            "True\n",
            "False\n",
            "True\n"
          ]
        }
      ]
    },
    {
      "cell_type": "code",
      "source": [
        "s='hello'\n",
        "w=\"world\"\n",
        "print(s)\n",
        "print(w)\n",
        "print(len(s))\n",
        "print(s.capitalize())\n",
        "print(s.upper())\n",
        "print(s.rjust(7))\n",
        "print(s.center(7))\n",
        "print(s.replace('l','qpqp'))"
      ],
      "metadata": {
        "colab": {
          "base_uri": "https://localhost:8080/"
        },
        "id": "Gj8IFn3zf9WA",
        "outputId": "20ccd0a4-04a8-4444-d3cb-19b9b75ac4fb"
      },
      "execution_count": null,
      "outputs": [
        {
          "output_type": "stream",
          "name": "stdout",
          "text": [
            "hello\n",
            "world\n",
            "5\n",
            "Hello\n",
            "HELLO\n",
            "  hello\n",
            " hello \n",
            "heqpqpqpqpo\n"
          ]
        }
      ]
    },
    {
      "cell_type": "code",
      "source": [
        "nums=list(range(5))\n",
        "print(nums)\n",
        "print(nums[2:4])\n",
        "print(nums[2:])\n",
        "print(nums[:2])"
      ],
      "metadata": {
        "colab": {
          "base_uri": "https://localhost:8080/"
        },
        "id": "mUm_W8ytiG8z",
        "outputId": "a0315e95-545d-4b8f-c76a-ac6ce05bf769"
      },
      "execution_count": null,
      "outputs": [
        {
          "output_type": "stream",
          "name": "stdout",
          "text": [
            "[0, 1, 2, 3, 4]\n",
            "[2, 3]\n",
            "[2, 3, 4]\n",
            "[0, 1]\n"
          ]
        }
      ]
    },
    {
      "cell_type": "code",
      "source": [
        "for i in nums:\n",
        "  print(i)\n",
        "for idx,num in enumerate(nums):\n",
        "  print('#%d: %s'%(idx+1,num))"
      ],
      "metadata": {
        "colab": {
          "base_uri": "https://localhost:8080/"
        },
        "id": "APfFZxEwl9Pc",
        "outputId": "31001f43-4af5-47b0-d4a4-7cbc56d7018e"
      },
      "execution_count": null,
      "outputs": [
        {
          "output_type": "stream",
          "name": "stdout",
          "text": [
            "0\n",
            "1\n",
            "2\n",
            "3\n",
            "4\n",
            "#1: 0\n",
            "#2: 1\n",
            "#3: 2\n",
            "#4: 3\n",
            "#5: 4\n"
          ]
        }
      ]
    },
    {
      "cell_type": "code",
      "source": [
        "square=[]\n",
        "for i in range(10):\n",
        "  square.append(i**2)\n",
        "for j in square:\n",
        "  print(j)"
      ],
      "metadata": {
        "colab": {
          "base_uri": "https://localhost:8080/"
        },
        "id": "qdsB2qy0nDkq",
        "outputId": "ed92d0a3-d904-4b0a-ad5d-5eec4684046e"
      },
      "execution_count": null,
      "outputs": [
        {
          "output_type": "stream",
          "name": "stdout",
          "text": [
            "0\n",
            "1\n",
            "4\n",
            "9\n",
            "16\n",
            "25\n",
            "36\n",
            "49\n",
            "64\n",
            "81\n"
          ]
        }
      ]
    },
    {
      "cell_type": "code",
      "source": [
        "nums=[0,1,2,3,4]\n",
        "squares=[x**2 for x in nums]\n",
        "print(squares)"
      ],
      "metadata": {
        "colab": {
          "base_uri": "https://localhost:8080/"
        },
        "id": "vZxa3kf3pwN5",
        "outputId": "ebbd1489-b9ae-4871-cb77-b56edc12489c"
      },
      "execution_count": null,
      "outputs": [
        {
          "output_type": "stream",
          "name": "stdout",
          "text": [
            "[0, 1, 4, 9, 16]\n"
          ]
        }
      ]
    },
    {
      "cell_type": "code",
      "source": [
        "even_squares=[x**2 for x in nums if x%2==0]\n",
        "print(even_squares)"
      ],
      "metadata": {
        "colab": {
          "base_uri": "https://localhost:8080/"
        },
        "id": "sz3T7sZCqEWy",
        "outputId": "1506897d-782a-47e8-b3d3-ade93ba42c34"
      },
      "execution_count": null,
      "outputs": [
        {
          "output_type": "stream",
          "name": "stdout",
          "text": [
            "[0, 4, 16]\n"
          ]
        }
      ]
    },
    {
      "cell_type": "code",
      "source": [
        "def sign(x):\n",
        "  if x>0:\n",
        "    return 'positive'\n",
        "  elif x<0:\n",
        "    return 'negative'\n",
        "  else:\n",
        "    return 'zero'\n",
        "\n",
        "for x in [-1,0,1]:\n",
        "  print(sign(x))"
      ],
      "metadata": {
        "colab": {
          "base_uri": "https://localhost:8080/"
        },
        "id": "GHhgfDMiq455",
        "outputId": "6c8fe061-af85-4fe4-915d-eb7eda2efc07"
      },
      "execution_count": null,
      "outputs": [
        {
          "output_type": "stream",
          "name": "stdout",
          "text": [
            "negative\n",
            "zero\n",
            "positive\n"
          ]
        }
      ]
    }
  ]
}